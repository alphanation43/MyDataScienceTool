{
 "cells": [
  {
   "cell_type": "markdown",
   "id": "dcb99cd5",
   "metadata": {},
   "source": [
    "# Data Science Tools and Ecosystem"
   ]
  },
  {
   "cell_type": "markdown",
   "id": "b28236cb",
   "metadata": {},
   "source": [
    "## In this notebook, Data Science Tools and Ecosystem are summarized."
   ]
  },
  {
   "cell_type": "markdown",
   "id": "52249097",
   "metadata": {},
   "source": [
    "### Some of the popular languages that Data Scientists use are:\n",
    "\n",
    "1. Python\n",
    "2. R\n",
    "3. SQL\n",
    "4. Scala\n",
    "5. C++ \n",
    "7. Julia\n",
    "6. Java"
   ]
  },
  {
   "cell_type": "markdown",
   "id": "92724f18",
   "metadata": {},
   "source": [
    "### Some of the commonly used libraries used by Data Scientists include:\n",
    "\n",
    "1. Seaborn\n",
    "2. Matplotlib\n",
    "3. NumPy\n",
    "4. Pytorch\n",
    "5. Vegas\n"
   ]
  },
  {
   "cell_type": "markdown",
   "id": "2c914a60",
   "metadata": {},
   "source": [
    "### Data Science Tools"
   ]
  },
  {
   "cell_type": "code",
   "execution_count": 11,
   "id": "3030c6cb",
   "metadata": {},
   "outputs": [
    {
     "data": {
      "text/markdown": [
       "|Data Science Tools| \n",
       " :--- | \n",
       " |Anaconda| \n",
       " |Jupyter Notebooks| \n",
       " |R Studio| \n",
       " "
      ],
      "text/plain": [
       "<IPython.core.display.Markdown object>"
      ]
     },
     "metadata": {},
     "output_type": "display_data"
    }
   ],
   "source": [
    "from IPython.display import Markdown, display\n",
    "\n",
    "# Creating my table\n",
    "\n",
    "myTable = \"|Data Science Tools| \\n :--- | \\n |Anaconda| \\n |Jupyter Notebooks| \\n |R Studio| \\n \"\n",
    "\n",
    "# Creating my markdown cell\n",
    "\n",
    "display(Markdown(myTable))\n",
    "\n",
    "\n",
    "\n"
   ]
  },
  {
   "cell_type": "code",
   "execution_count": 18,
   "id": "14d9ce4c",
   "metadata": {},
   "outputs": [
    {
     "data": {
      "text/markdown": [
       "### Below are a few examples of evaluating arithmetic expressions in Python"
      ],
      "text/plain": [
       "<IPython.core.display.Markdown object>"
      ]
     },
     "metadata": {},
     "output_type": "display_data"
    }
   ],
   "source": [
    "from IPython.display import Markdown, display\n",
    "\n",
    "myMarkdown = \"### Below are a few examples of evaluating arithmetic expressions in Python\"\n",
    "display(Markdown(myMarkdown))"
   ]
  },
  {
   "cell_type": "code",
   "execution_count": 15,
   "id": "615ec4e0",
   "metadata": {},
   "outputs": [
    {
     "data": {
      "text/plain": [
       "17"
      ]
     },
     "execution_count": 15,
     "metadata": {},
     "output_type": "execute_result"
    }
   ],
   "source": [
    "# This a simple arithmetic expression to mutiply then add integers\n",
    "\n",
    "(3*4)+5"
   ]
  },
  {
   "cell_type": "code",
   "execution_count": 17,
   "id": "4d73ef7b",
   "metadata": {},
   "outputs": [
    {
     "name": "stdout",
     "output_type": "stream",
     "text": [
      "120 minutes is equal to 2.0 hours\n"
     ]
    }
   ],
   "source": [
    "# This will convert 200 minutes to hours by diving by 60\n",
    "\n",
    "mins = 120\n",
    "hrs = mins / 60\n",
    "print(f\"{mins} minutes is equal to {hrs} hours\")\n"
   ]
  },
  {
   "cell_type": "markdown",
   "id": "f084cffd",
   "metadata": {},
   "source": [
    "**Objectives:**\n",
    "- List popular languages for Data Science\n",
    "- List popular tools for Data Science\n",
    "- Using IDEs and APIs"
   ]
  },
  {
   "cell_type": "markdown",
   "id": "83608cbe",
   "metadata": {},
   "source": [
    "## Author\n",
    "Akeem S Davis"
   ]
  },
  {
   "cell_type": "code",
   "execution_count": null,
   "id": "d5e8b7b9",
   "metadata": {},
   "outputs": [],
   "source": []
  }
 ],
 "metadata": {
  "kernelspec": {
   "display_name": "Python 3 (ipykernel)",
   "language": "python",
   "name": "python3"
  },
  "language_info": {
   "codemirror_mode": {
    "name": "ipython",
    "version": 3
   },
   "file_extension": ".py",
   "mimetype": "text/x-python",
   "name": "python",
   "nbconvert_exporter": "python",
   "pygments_lexer": "ipython3",
   "version": "3.11.5"
  }
 },
 "nbformat": 4,
 "nbformat_minor": 5
}
